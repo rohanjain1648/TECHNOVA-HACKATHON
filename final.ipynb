{
  "nbformat": 4,
  "nbformat_minor": 0,
  "metadata": {
    "colab": {
      "provenance": [],
      "authorship_tag": "ABX9TyMjQVBRlMUCWY21ArECZSxG",
      "include_colab_link": true
    },
    "kernelspec": {
      "name": "python3",
      "display_name": "Python 3"
    },
    "language_info": {
      "name": "python"
    }
  },
  "cells": [
    {
      "cell_type": "markdown",
      "metadata": {
        "id": "view-in-github",
        "colab_type": "text"
      },
      "source": [
        "<a href=\"https://colab.research.google.com/github/rohanjain1648/TECHNOVA-HACKATHON/blob/main/final.ipynb\" target=\"_parent\"><img src=\"https://colab.research.google.com/assets/colab-badge.svg\" alt=\"Open In Colab\"/></a>"
      ]
    },
    {
      "cell_type": "code",
      "source": [
        "import pandas as pd\n",
        "import numpy as np\n",
        "\n",
        "# Generating a sample dataset\n",
        "data = {\n",
        "    'past_transactions_1d': np.random.randint(1, 10, 1000),\n",
        "    'past_transactions_1w': np.random.randint(5, 50, 1000),\n",
        "    'avg_transaction_amount': np.random.uniform(5, 200, 1000),\n",
        "    'highest_transaction_amount': np.random.uniform(100, 5000, 1000),\n",
        "    'transaction_location': np.random.choice(['City A', 'City B', 'City C'], 1000),\n",
        "    'transaction_type': np.random.choice(['Online Purchase', 'ATM Withdrawal', 'Cash Deposit'], 1000),\n",
        "    'current_transaction_amount': np.random.uniform(10, 500, 1000),\n",
        "    'current_transaction_location': np.random.choice(['City A', 'City B', 'City C'], 1000),\n",
        "    'transaction_time': pd.to_datetime(np.random.choice(pd.date_range(\"2023-01-01\", periods=1000, freq=\"H\"), 1000)),\n",
        "    'merchant_category': np.random.choice(['Retail', 'Food', 'Electronics'], 1000),\n",
        "    'device_used': np.random.choice(['Mobile', 'PC'], 1000),\n",
        "    'IP_address': np.random.choice(['192.168.0.1', '10.0.0.1', '172.16.0.1'], 1000),\n",
        "    'account_age': np.random.randint(1, 20, 1000),\n",
        "    'customer_loyalty_level': np.random.choice(['Bronze', 'Silver', 'Gold'], 1000),\n",
        "    'billing_address': np.random.choice(['Address 1', 'Address 2', 'Address 3'], 1000),\n",
        "    'shipping_address': np.random.choice(['Address 1', 'Address 2', 'Address 3'], 1000),\n",
        "    'fraud': np.random.choice([0, 1], 1000)  # Target: 0 (No Fraud), 1 (Fraud)\n",
        "}\n",
        "\n",
        "# Creating DataFrame\n",
        "df = pd.DataFrame(data)\n",
        "\n",
        "# Saving the dataset to CSV for training purposes\n",
        "df.to_csv(\"transaction_data.csv\", index=False)\n"
      ],
      "metadata": {
        "colab": {
          "base_uri": "https://localhost:8080/"
        },
        "id": "nuA83sNQ4UFK",
        "outputId": "b4d55023-37ea-4ef3-b8d9-47e967ffd4de"
      },
      "execution_count": 26,
      "outputs": [
        {
          "output_type": "stream",
          "name": "stderr",
          "text": [
            "<ipython-input-26-d0555de924cf>:14: FutureWarning: 'H' is deprecated and will be removed in a future version, please use 'h' instead.\n",
            "  'transaction_time': pd.to_datetime(np.random.choice(pd.date_range(\"2023-01-01\", periods=1000, freq=\"H\"), 1000)),\n"
          ]
        }
      ]
    },
    {
      "cell_type": "code",
      "source": [
        "import numpy as np\n",
        "import pandas as pd\n",
        "import xgboost as xgb\n",
        "from sklearn.ensemble import RandomForestClassifier\n",
        "from sklearn.preprocessing import LabelEncoder\n",
        "\n",
        "# Load dataset\n",
        "df = pd.read_csv(\"transaction_data.csv\")\n",
        "\n",
        "# Convert transaction_time to datetime and extract time-based features\n",
        "df['transaction_time'] = pd.to_datetime(df['transaction_time'], errors='coerce')\n",
        "df['transaction_hour'] = df['transaction_time'].dt.hour\n",
        "df['transaction_day'] = df['transaction_time'].dt.dayofweek\n",
        "df.drop(columns=['transaction_time'], inplace=True)\n",
        "\n",
        "# Encode categorical variables using LabelEncoder\n",
        "categorical_cols = ['transaction_location', 'transaction_type', 'current_transaction_location',\n",
        "                    'merchant_category', 'device_used', 'IP_address', 'customer_loyalty_level',\n",
        "                    'billing_address', 'shipping_address']\n",
        "\n",
        "encoder_dict = {}  # Dictionary to store encoders for later use\n",
        "for col in categorical_cols:\n",
        "    encoder = LabelEncoder()\n",
        "    df[col] = encoder.fit_transform(df[col])\n",
        "    encoder_dict[col] = encoder  # Save encoder for manual input\n",
        "\n",
        "# Define features & labels\n",
        "X = df.drop(columns=['fraud'])\n",
        "y = df['fraud']\n",
        "\n",
        "# Split dataset\n",
        "from sklearn.model_selection import train_test_split\n",
        "X_train, X_test, y_train, y_test = train_test_split(X, y, test_size=0.2, random_state=42)\n",
        "\n",
        "# Train XGBoost model\n",
        "xgb_model = xgb.XGBClassifier(eval_metric='logloss', use_label_encoder=False)\n",
        "xgb_model.fit(X_train, y_train)\n",
        "\n",
        "# Train Random Forest model\n",
        "rf_model = RandomForestClassifier(n_estimators=100, random_state=42)\n",
        "rf_model.fit(X_train, y_train)\n",
        "\n",
        "\n",
        "# -------------- MANUAL INPUT FUNCTION --------------\n",
        "def manual_input_prediction(model, X_columns, encoder_dict):\n",
        "    print(\"\\nEnter transaction details:\")\n",
        "\n",
        "    # Collect user input\n",
        "    user_input = {\n",
        "        'past_transactions_1d': int(input(\"Past transactions in last day: \")),\n",
        "        'past_transactions_1w': int(input(\"Past transactions in last week: \")),\n",
        "        'avg_transaction_amount': float(input(\"Average transaction amount: \")),\n",
        "        'highest_transaction_amount': float(input(\"Highest transaction amount: \")),\n",
        "        'transaction_location': input(\"Transaction location (City A/City B/City C): \"),\n",
        "        'transaction_type': input(\"Transaction type (Online Purchase/ATM Withdrawal/Cash Deposit): \"),\n",
        "        'current_transaction_amount': float(input(\"Current transaction amount: \")),\n",
        "        'current_transaction_location': input(\"Current transaction location (City A/City B/City C): \"),\n",
        "        'merchant_category': input(\"Merchant category (Retail/Food/Electronics): \"),\n",
        "        'device_used': input(\"Device used (Mobile/PC): \"),\n",
        "        'IP_address': input(\"IP address (192.168.0.1/10.0.0.1/172.16.0.1): \"),\n",
        "        'account_age': int(input(\"Account age (in years): \")),\n",
        "        'customer_loyalty_level': input(\"Customer loyalty level (Bronze/Silver/Gold): \"),\n",
        "        'billing_address': input(\"Billing address (Address 1/Address 2/Address 3): \"),\n",
        "        'shipping_address': input(\"Shipping address (Address 1/Address 2/Address 3): \"),\n",
        "        'transaction_hour': int(input(\"Transaction hour (0-23): \")),\n",
        "        'transaction_day': int(input(\"Transaction day of week (0=Monday, 6=Sunday): \"))\n",
        "    }\n",
        "\n",
        "    # Convert user input to DataFrame\n",
        "    user_df = pd.DataFrame([user_input])\n",
        "\n",
        "    # Encode categorical variables using previously fitted encoders\n",
        "    for col in categorical_cols:\n",
        "        if col in encoder_dict:\n",
        "            user_df[col] = encoder_dict[col].transform([user_df[col][0]])  # Encode single value\n",
        "\n",
        "    # Ensure column order matches training data\n",
        "    user_df = user_df[X_columns]\n",
        "\n",
        "    # Make prediction\n",
        "    prediction = model.predict(user_df)[0]\n",
        "\n",
        "    # Display result\n",
        "    if prediction == 1:\n",
        "        print(\"🚨 Warning: Potential Fraud Detected!\")\n",
        "    else:\n",
        "        print(\"✅ Transaction appears safe.\")\n",
        "\n",
        "# Call the function\n",
        "manual_input_prediction(xgb_model, X.columns, encoder_dict)\n"
      ],
      "metadata": {
        "colab": {
          "base_uri": "https://localhost:8080/"
        },
        "id": "VO5chbSz4Zdt",
        "outputId": "2204a9c2-4ba1-4a65-ec7f-be921e35ac06"
      },
      "execution_count": 28,
      "outputs": [
        {
          "output_type": "stream",
          "name": "stderr",
          "text": [
            "/usr/local/lib/python3.11/dist-packages/xgboost/core.py:158: UserWarning: [10:52:36] WARNING: /workspace/src/learner.cc:740: \n",
            "Parameters: { \"use_label_encoder\" } are not used.\n",
            "\n",
            "  warnings.warn(smsg, UserWarning)\n"
          ]
        },
        {
          "output_type": "stream",
          "name": "stdout",
          "text": [
            "\n",
            "Enter transaction details:\n",
            "Past transactions in last day: 50\n",
            "Past transactions in last week: 300\n",
            "Average transaction amount: 5000\n",
            "Highest transaction amount: 20000\n",
            "Transaction location (City A/City B/City C): City B\n",
            "Transaction type (Online Purchase/ATM Withdrawal/Cash Deposit): ATM Withdrawal\n",
            "Current transaction amount: 15000\n",
            "Current transaction location (City A/City B/City C): City C\n",
            "Merchant category (Retail/Food/Electronics): Electronics\n",
            "Device used (Mobile/PC): PC\n",
            "IP address (192.168.0.1/10.0.0.1/172.16.0.1): 10.0.0.1\n",
            "Account age (in years): 1\n",
            "Customer loyalty level (Bronze/Silver/Gold): Bronze\n",
            "Billing address (Address 1/Address 2/Address 3): Address 3\n",
            "Shipping address (Address 1/Address 2/Address 3): Address 3\n",
            "Transaction hour (0-23): 2\n",
            "Transaction day of week (0=Monday, 6=Sunday): 6\n",
            "🚨 Warning: Potential Fraud Detected!\n"
          ]
        }
      ]
    }
  ]
}