{
  "nbformat": 4,
  "nbformat_minor": 0,
  "metadata": {
    "colab": {
      "provenance": [],
      "authorship_tag": "ABX9TyOQyIybRkGp4RlEQWwjqkuk",
      "include_colab_link": true
    },
    "kernelspec": {
      "name": "python3",
      "display_name": "Python 3"
    },
    "language_info": {
      "name": "python"
    }
  },
  "cells": [
    {
      "cell_type": "markdown",
      "metadata": {
        "id": "view-in-github",
        "colab_type": "text"
      },
      "source": [
        "<a href=\"https://colab.research.google.com/github/rohanjain1648/TECHNOVA-HACKATHON/blob/main/rd.ipynb\" target=\"_parent\"><img src=\"https://colab.research.google.com/assets/colab-badge.svg\" alt=\"Open In Colab\"/></a>"
      ]
    },
    {
      "cell_type": "code",
      "execution_count": 6,
      "metadata": {
        "id": "OutMwJc9jwTz"
      },
      "outputs": [],
      "source": [
        "import pandas as pd\n",
        "import numpy as np\n",
        "import seaborn as sns\n",
        "import matplotlib.pyplot as plt\n",
        "from sklearn.model_selection import train_test_split\n",
        "from sklearn.metrics import confusion_matrix, classification_report, roc_curve, auc\n",
        "import xgboost as xgb\n",
        "from sklearn.neighbors import KNeighborsClassifier\n",
        "from sklearn.ensemble import RandomForestClassifier, VotingClassifier\n",
        "\n",
        "# Set seaborn style\n",
        "sns.set()\n",
        "\n",
        "# Read dataset\n",
        "data = pd.read_csv(\"bs140513_032310.csv\")\n",
        "\n",
        "\n"
      ]
    },
    {
      "cell_type": "code",
      "source": [
        "# Preprocessing\n",
        "data = data.drop(['zipcodeOri', 'zipMerchant'], axis=1)\n",
        "col_categorical = data.select_dtypes(include=['object']).columns\n",
        "for col in col_categorical:\n",
        "    data[col] = data[col].astype('category').cat.codes\n",
        "\n",
        "X = data.drop(['fraud'], axis=1)\n",
        "y = data['fraud']\n",
        "\n",
        "# Train-test split\n",
        "X_train, X_test, y_train, y_test = train_test_split(X, y, test_size=0.3, random_state=42, stratify=y)\n",
        "\n",
        "# Model training\n",
        "knn = KNeighborsClassifier(n_neighbors=5, p=1)\n",
        "rf_clf = RandomForestClassifier(n_estimators=100, max_depth=8, random_state=42, class_weight=\"balanced\")\n",
        "xgb_clf = xgb.XGBClassifier(max_depth=6, learning_rate=0.05, n_estimators=400, objective=\"binary:hinge\", random_state=42)\n",
        "\n",
        "knn.fit(X_train, y_train)\n",
        "rf_clf.fit(X_train, y_train)\n",
        "xgb_clf.fit(X_train, y_train)\n",
        "\n",
        "# Ensemble model\n",
        "ensemble = VotingClassifier(estimators=[(\"KNN\", knn), (\"RF\", rf_clf), (\"XGB\", xgb_clf)], voting=\"soft\", weights=[1,4,1])\n",
        "ensemble.fit(X_train, y_train)\n",
        "\n",
        "# Real-time input function\n",
        "def get_user_input():\n",
        "    user_data = {}\n",
        "    for column in X.columns:\n",
        "        value = input(f\"Enter value for {column}: \")\n",
        "        try:\n",
        "            user_data[column] = float(value)\n",
        "        except ValueError:\n",
        "            user_data[column] = 0  # Default if conversion fails\n",
        "    return pd.DataFrame([user_data])\n",
        "\n",
        "def predict_real_time(model):\n",
        "    print(\"\\n--- Real-Time Anomaly Detection ---\")\n",
        "    user_df = get_user_input()\n",
        "    prediction = model.predict(user_df)[0]\n",
        "    probability = model.predict_proba(user_df)[0][1]\n",
        "\n",
        "    print(f\"\\nAnomaly Detection Result: {'Fraudulent' if prediction == 1 else 'Non-Fraudulent'}\")\n",
        "    print(f\"Risk Score (Probability of Fraud): {probability:.4f}\")\n",
        "\n",
        "# Predict on real-time user input\n",
        "predict_real_time(ensemble)\n"
      ],
      "metadata": {
        "colab": {
          "base_uri": "https://localhost:8080/"
        },
        "id": "6qkjgOs6kjgE",
        "outputId": "fb7e97f9-d1a5-4aeb-9e69-1795b9448464"
      },
      "execution_count": 7,
      "outputs": [
        {
          "output_type": "stream",
          "name": "stdout",
          "text": [
            "\n",
            "--- Real-Time Anomaly Detection ---\n",
            "Enter value for step: 10\n",
            "Enter value for customer: 300\n",
            "Enter value for age: 25\n",
            "Enter value for gender: M\n",
            "Enter value for merchant: 2000\n",
            "Enter value for category: 5\n",
            "Enter value for amount: 10000\n",
            "\n",
            "Anomaly Detection Result: Fraudulent\n",
            "Risk Score (Probability of Fraud): 0.8219\n"
          ]
        }
      ]
    }
  ]
}